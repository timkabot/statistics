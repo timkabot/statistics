{
 "cells": [
  {
   "cell_type": "code",
   "execution_count": 102,
   "metadata": {},
   "outputs": [],
   "source": [
    "# Let us generate 1,000 random numbers for:\n",
    "\n",
    "# normal, \n",
    "# t with 3 degrees of freedom, \n",
    "# lognormal distributions, end\n",
    "# your own (e.g. double exponential), \n",
    "\n",
    "# In all cases, we apply a chi-square test with 32 bins (K) to test for normally distributed data. \n",
    "# The normal distribution has two parameters ddof=2 (degrees of freedom = K - 2 - 1)\n",
    "\n",
    "import numpy as np\n",
    "import matplotlib.pyplot as plt\n",
    "from scipy.stats import norm\n",
    "import scipy\n",
    "\n",
    "#n\n",
    "N = 1000\n",
    "\n",
    "# bins\n",
    "BINS = 30\n",
    "\n",
    "mu = 1.0\n",
    "sigma = 1.0\n",
    "\n",
    "# Y1 = np.random.normal(loc=mu, scale = sigma, size=N)\n",
    "Y1 = np.random.lognormal(mean=mu, sigma = sigma, size=N)\n",
    "h1 = np.histogram(Y1, bins = BINS)"
   ]
  },
  {
   "cell_type": "code",
   "execution_count": null,
   "metadata": {},
   "outputs": [],
   "source": []
  },
  {
   "cell_type": "code",
   "execution_count": 103,
   "metadata": {
    "scrolled": true
   },
   "outputs": [
    {
     "data": {
      "text/plain": [
       "array([1.31958582e-01, 4.70082776e+00, 9.26969694e+00, 1.38385661e+01,\n",
       "       1.84074353e+01, 2.29763045e+01, 2.75451737e+01, 3.21140428e+01,\n",
       "       3.66829120e+01, 4.12517812e+01, 4.58206504e+01, 5.03895196e+01,\n",
       "       5.49583887e+01, 5.95272579e+01, 6.40961271e+01, 6.86649963e+01,\n",
       "       7.32338654e+01, 7.78027346e+01, 8.23716038e+01, 8.69404730e+01,\n",
       "       9.15093422e+01, 9.60782113e+01, 1.00647081e+02, 1.05215950e+02,\n",
       "       1.09784819e+02, 1.14353688e+02, 1.18922557e+02, 1.23491426e+02,\n",
       "       1.28060296e+02, 1.32629165e+02, 1.37198034e+02])"
      ]
     },
     "execution_count": 103,
     "metadata": {},
     "output_type": "execute_result"
    }
   ],
   "source": [
    "h1[1]"
   ]
  },
  {
   "cell_type": "code",
   "execution_count": 104,
   "metadata": {},
   "outputs": [
    {
     "data": {
      "image/png": "[encoded data removed]",
      "text/plain": [
       "<Figure size 432x288 with 1 Axes>"
      ]
     },
     "metadata": {},
     "output_type": "display_data"
    }
   ],
   "source": [
    "plt.hist(Y1, bins=BINS)  # arguments are passed to np.histogram\n",
    "plt.title(\"Histogram of a sample\")\n",
    "plt.show()"
   ]
  },
  {
   "cell_type": "code",
   "execution_count": 105,
   "metadata": {},
   "outputs": [
    {
     "name": "stdout",
     "output_type": "stream",
     "text": [
      "10 1.0\n"
     ]
    },
    {
     "data": {
      "image/png": "[encoded data removed]",
      "text/plain": [
       "<Figure size 432x288 with 1 Axes>"
      ]
     },
     "metadata": {},
     "output_type": "display_data"
    }
   ],
   "source": [
    "# some guess for parameters\n",
    "# mu0 = np.mean(Y1)\n",
    "# sigma0 = np.std(Y1, ddof = 1)\n",
    "\n",
    "# some distr\n",
    "dist = norm(mu0, sigma0)\n",
    "\n",
    "mu0 = 10\n",
    "sigma0 = 1.0\n",
    "\n",
    "\n",
    "print(mu0, sigma0)\n",
    "X1 = np.random.normal(loc=mu0, scale = sigma0, size=N)\n",
    "h2 = np.histogram(X1, bins = BINS)\n",
    "plt.hist(X1, bins=BINS)  # arguments are passed to np.histogram\n",
    "plt.title(\"Histogram of a distr\")\n",
    "plt.show()\n",
    "\n"
   ]
  },
  {
   "cell_type": "code",
   "execution_count": 106,
   "metadata": {},
   "outputs": [
    {
     "name": "stdout",
     "output_type": "stream",
     "text": [
      "[0.002 0.001 0.009 0.01  0.017 0.012 0.022 0.03  0.033 0.056 0.054 0.067\n",
      " 0.075 0.072 0.07  0.06  0.066 0.067 0.064 0.045 0.04  0.033 0.024 0.023\n",
      " 0.013 0.018 0.01  0.003 0.003 0.001]\n",
      "[0.718 0.176 0.058 0.021 0.009 0.006 0.003 0.002 0.    0.001 0.002 0.002\n",
      " 0.001 0.    0.    0.    0.    0.    0.    0.    0.    0.    0.    0.\n",
      " 0.    0.    0.    0.    0.    0.001]\n"
     ]
    }
   ],
   "source": [
    "#Chi-square\n",
    "\n",
    "\n",
    "_, edges = np.histogram(X1, bins=BINS)\n",
    "expected = np.array([dist.cdf(edges[i + 1]) - dist.cdf(edges[i]) * N\n",
    "                    for i in range(BINS)])\n",
    "\n",
    "h0 = np.histogram(X1, bins = BINS)\n",
    "expected = h0[0]/N\n",
    "print(expected)\n",
    "observed = h1[0]/N\n",
    "print(observed)\n",
    "\n"
   ]
  },
  {
   "cell_type": "code",
   "execution_count": 107,
   "metadata": {},
   "outputs": [
    {
     "name": "stdout",
     "output_type": "stream",
     "text": [
      "Power_divergenceResult(statistic=288.1653498739452, pvalue=1.6379751736505053e-45)\n"
     ]
    }
   ],
   "source": [
    "print(scipy.stats.chisquare(f_obs=observed, f_exp=expected, ddof=2))"
   ]
  },
  {
   "cell_type": "code",
   "execution_count": null,
   "metadata": {},
   "outputs": [],
   "source": []
  }
 ],
 "metadata": {
  "kernelspec": {
   "display_name": "Python 3",
   "language": "python",
   "name": "python3"
  },
  "language_info": {
   "codemirror_mode": {
    "name": "ipython",
    "version": 3
   },
   "file_extension": ".py",
   "mimetype": "text/x-python",
   "name": "python",
   "nbconvert_exporter": "python",
   "pygments_lexer": "ipython3",
   "version": "3.6.3"
  }
 },
 "nbformat": 4,
 "nbformat_minor": 2
}
